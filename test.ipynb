{
 "cells": [
  {
   "cell_type": "markdown",
   "metadata": {},
   "source": [
    "# Python Project\n",
    "\n",
    "**Hotel**\n",
    "\n",
    "The program must present and display a report of the result obtained, showing for\n",
    "each strategy the number of customers accommodated, the number of rooms occupied, the\n",
    "number of different hotels occupied, the total volume of business (total earnings of each\n",
    "hotel), and the degree of customer satisfaction (calculated according to the location of the\n",
    "hotel assigned to them with respect to their preferences).\n",
    "I will use 4 differents strategies:\n",
    "**1-random**\n",
    "**2-customer preference**\n",
    "**3-price**\n",
    "**4-availability**"
   ]
  },
  {
   "cell_type": "markdown",
   "metadata": {},
   "source": [
    "**Random:**\n",
    "customers are randomly distributed to the rooms until the seats or customers\n",
    "are exhausted.\n"
   ]
  },
  {
   "cell_type": "code",
   "execution_count": 1,
   "metadata": {},
   "outputs": [],
   "source": [
    "import pandas as pd"
   ]
  },
  {
   "cell_type": "code",
   "execution_count": 2,
   "metadata": {},
   "outputs": [],
   "source": [
    "import numpy as np"
   ]
  },
  {
   "cell_type": "code",
   "execution_count": 3,
   "metadata": {},
   "outputs": [],
   "source": [
    "hotels = pd.read_excel(\"/Users/raulspano/Desktop/progetto hotel/hotels.xlsx\")"
   ]
  },
  {
   "cell_type": "code",
   "execution_count": 4,
   "metadata": {},
   "outputs": [],
   "source": [
    "ospiti = pd.read_excel('/Users/raulspano/Desktop/progetto hotel/guests.xlsx')"
   ]
  },
  {
   "cell_type": "code",
   "execution_count": 5,
   "metadata": {},
   "outputs": [],
   "source": [
    "preferenze = pd.read_excel('/Users/raulspano/Desktop/progetto hotel/preferences.xlsx')"
   ]
  },
  {
   "cell_type": "code",
   "execution_count": 6,
   "metadata": {},
   "outputs": [],
   "source": [
    "hotels['stanze_disponibili'] = hotels['rooms'].copy()"
   ]
  },
  {
   "cell_type": "code",
   "execution_count": 7,
   "metadata": {},
   "outputs": [],
   "source": [
    "guadagni_hotel={hotel: 0 for hotel in hotels['hotel']}"
   ]
  },
  {
   "cell_type": "code",
   "execution_count": 8,
   "metadata": {},
   "outputs": [],
   "source": [
    "ospiti_allocati=0\n",
    "stanze_occupate=0\n",
    "hotel_occupati=set()\n",
    "ospiti_soddisfatti=0"
   ]
  },
  {
   "cell_type": "code",
   "execution_count": 9,
   "metadata": {},
   "outputs": [],
   "source": [
    "allocazioni=[]"
   ]
  },
  {
   "cell_type": "code",
   "execution_count": 10,
   "metadata": {},
   "outputs": [
    {
     "name": "stdout",
     "output_type": "stream",
     "text": [
      "[]\n"
     ]
    }
   ],
   "source": [
    "print(allocazioni)"
   ]
  },
  {
   "cell_type": "code",
   "execution_count": 11,
   "metadata": {},
   "outputs": [],
   "source": [
    "for _, guest_row in ospiti.iterrows():\n",
    "    guest=guest_row['guest']\n",
    "    discount=guest_row['discount']\n",
    "    ##dobbiamo prendere in considerazione le preferenze dell'ospite\n",
    "    preferenze_ospite=preferenze[preferenze['guest']== guest]\n",
    "    ##dobbiamo trovare stanze disponibili nelle preferenze del cliente\n",
    "    hotels_preferiti=preferenze_ospite[preferenze_ospite['hotel'].isin(hotels[hotels['stanze_disponibili']>0]['hotel'])]\n",
    "    if not hotels_preferiti.empty:\n",
    "        ## se ci sono preferenze disponibili selezionarne una casualmente\n",
    "        hotel_selezionato= np.random.choice(hotels_preferiti['hotel'])\n",
    "        ospiti_soddisfatti += 1 ##vuol dire che l'ospite ha ottenuto un hotel preferito\n",
    "    else:\n",
    "        ## se non ci sono preferenze valide seleziona un hotel a caso tra quelli con stanze disponibili\n",
    "        hotels_disponibili=hotels[hotels['stanze_disponibili']>0]\n",
    "        if hotels_disponibili.empty:\n",
    "            print('Non ci sono hotel disponibili')\n",
    "            continue ##se non ci sono hotel disponibili passa al prossimo ospite\n",
    "        ##selezioniamo casualmente un hotel disponibile\n",
    "        hotel_selezionato= np.random.choice(hotels_disponibili['hotel'])\n",
    "    \n",
    "    ##recuperare il prezzo dell'hotel selezionato\n",
    "    prezzo_hotel= hotels[hotels['hotel']==hotel_selezionato].iloc[0]\n",
    "    price=prezzo_hotel['price']\n",
    "    \n",
    "    #calcoliamo lo sconto\n",
    "    prezzo_finale= price*(1-discount)\n",
    "    \n",
    "    #salviamo le allocazioni\n",
    "    allocazioni.append({\n",
    "        'cliente':guest,\n",
    "        'hotel_f': hotel_selezionato,\n",
    "        'prezzo_pagato': prezzo_finale\n",
    "    })\n",
    "    \n",
    "    ##dobbiamo ovviamente ridurre il numero di stanze disponibili nell'hotel\n",
    "    indice_hotel=hotels[hotels['hotel']==hotel_selezionato].index\n",
    "    hotels.loc[indice_hotel, 'stanze_disponibili'] -= 1\n",
    "    \n",
    "    ##dobbiamo aggiornare le statistiche\n",
    "    ospiti_allocati += 1\n",
    "    stanze_occupate += 1\n",
    "    hotel_occupati.add(hotel_selezionato)\n",
    "    guadagni_hotel[hotel_selezionato] += prezzo_finale"
   ]
  },
  {
   "cell_type": "code",
   "execution_count": 12,
   "metadata": {},
   "outputs": [],
   "source": [
    "allocazioni_df= pd.DataFrame(allocazioni)  "
   ]
  },
  {
   "cell_type": "code",
   "execution_count": 13,
   "metadata": {},
   "outputs": [],
   "source": [
    "numero_hotel_occupati= len(hotel_occupati)"
   ]
  },
  {
   "cell_type": "code",
   "execution_count": 14,
   "metadata": {},
   "outputs": [
    {
     "name": "stdout",
     "output_type": "stream",
     "text": [
      "Numero di ospiti che hanno ottenuto una camera: 4000\n",
      "Numero di stanze occupate: 4000\n",
      "Numero di hotel occupati: 400\n",
      "Ospiti soddisfatti: 3972\n"
     ]
    }
   ],
   "source": [
    "print(f'Numero di ospiti che hanno ottenuto una camera: {ospiti_allocati}')\n",
    "print(f'Numero di stanze occupate: {stanze_occupate}')\n",
    "print(f'Numero di hotel occupati: {numero_hotel_occupati}')\n",
    "print(f'Ospiti soddisfatti: {ospiti_soddisfatti}')\n"
   ]
  },
  {
   "cell_type": "code",
   "execution_count": 15,
   "metadata": {},
   "outputs": [
    {
     "name": "stdout",
     "output_type": "stream",
     "text": [
      "\n",
      "Guadagni totali di ogni hotel:\n",
      "         Hotel  Guadagno Totale\n",
      "0      hotel_1          3207.75\n",
      "1      hotel_2           911.72\n",
      "2      hotel_3          1122.36\n",
      "3      hotel_4          2103.80\n",
      "4      hotel_5          1898.26\n",
      "..         ...              ...\n",
      "395  hotel_396           943.40\n",
      "396  hotel_397           735.76\n",
      "397  hotel_398          1288.26\n",
      "398  hotel_399          3467.64\n",
      "399  hotel_400          1599.35\n",
      "\n",
      "[400 rows x 2 columns]\n"
     ]
    }
   ],
   "source": [
    "guadagni_df= pd.DataFrame(list(guadagni_hotel.items()), columns=['Hotel', 'Guadagno Totale'])\n",
    "print('\\nGuadagni totali di ogni hotel:')\n",
    "print(guadagni_df)"
   ]
  }
 ],
 "metadata": {
  "kernelspec": {
   "display_name": "Python 3",
   "language": "python",
   "name": "python3"
  },
  "language_info": {
   "codemirror_mode": {
    "name": "ipython",
    "version": 3
   },
   "file_extension": ".py",
   "mimetype": "text/x-python",
   "name": "python",
   "nbconvert_exporter": "python",
   "pygments_lexer": "ipython3",
   "version": "3.12.6"
  }
 },
 "nbformat": 4,
 "nbformat_minor": 2
}

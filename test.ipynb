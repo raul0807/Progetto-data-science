{
 "cells": [
  {
   "cell_type": "markdown",
   "metadata": {},
   "source": [
    "# Python Project\n",
    "\n",
    "**Hotel**\n",
    "\n",
    "The program must present and display a report of the result obtained, showing for\n",
    "each strategy the number of customers accommodated, the number of rooms occupied, the\n",
    "number of different hotels occupied, the total volume of business (total earnings of each\n",
    "hotel), and the degree of customer satisfaction (calculated according to the location of the\n",
    "hotel assigned to them with respect to their preferences).\n",
    "I will use 4 differents strategies:\n",
    "**1-random**\n",
    "**2-customer preference**\n",
    "**3-price**\n",
    "**4-availability**"
   ]
  },
  {
   "cell_type": "markdown",
   "metadata": {},
   "source": [
    "**Random:**\n",
    "customers are randomly distributed to the rooms until the seats or customers\n",
    "are exhausted.\n"
   ]
  },
  {
   "cell_type": "code",
   "execution_count": null,
   "metadata": {},
   "outputs": [],
   "source": [
    "import pandas as pd\n",
    "import numpy as np\n",
    "import matplotlib.pyplot as plt\n",
    "#importing useful library for python\n",
    "\n",
    "hotels = pd.read_excel(\"/Users/raulspano/Desktop/progetto hotel/hotels.xlsx\")\n",
    "ospiti = pd.read_excel('/Users/raulspano/Desktop/progetto hotel/guests.xlsx')\n",
    "preferenze = pd.read_excel('/Users/raulspano/Desktop/progetto hotel/preferences.xlsx')\n",
    "#I'm taking all the excel file that i need to manipulate and use for obtain the final result\n",
    "\n",
    "hotels['stanze_disponibili'] = hotels['rooms'].copy()\n",
    "#creating a colunm that rapresent the room available\n",
    "\n",
    "guadagni_hotel={hotel: 0 for hotel in hotels['hotel']}\n",
    "##dictionary for the earnings of each hotel\n",
    "\n",
    "ospiti_allocati=0\n",
    "stanze_occupate=0\n",
    "hotel_occupati=set()\n",
    "ospiti_soddisfatti=0\n",
    "allocazioni=[]\n",
    "#creating the variables needed and the set for hotel that are occupied and a list for allocations "
   ]
  },
  {
   "cell_type": "code",
   "execution_count": 4,
   "metadata": {},
   "outputs": [],
   "source": [
    "for _, guest_row in ospiti.iterrows():\n",
    "    #we are iterating on every row of guest escluding the first that are the index\n",
    "    \n",
    "    guest=guest_row['guest']\n",
    "    discount=guest_row['discount']\n",
    "    #ww are taking from each row the value of the colunm in square brakets and we are assigning to a variable\n",
    "    \n",
    "    preferenze_ospite=preferenze[preferenze['guest']== guest]\n",
    "    #filtering 'preferenze' in order to associate to a guest only his preferences \n",
    "    \n",
    "    hotels_preferiti=preferenze_ospite[preferenze_ospite['hotel'].isin(hotels[hotels['stanze_disponibili']>0]['hotel'])]\n",
    "    #filtring for hotel that has at least 1 room available and control that this hotel is in the preferences of the guest\n",
    "    \n",
    "    if not hotels_preferiti.empty:\n",
    "        hotel_selezionato= np.random.choice(hotels_preferiti['hotel'])\n",
    "        ospiti_soddisfatti += 1\n",
    "    else:\n",
    "        hotels_disponibili=hotels[hotels['stanze_disponibili']>0]\n",
    "        if hotels_disponibili.empty:\n",
    "            print('Non ci sono hotel disponibili')\n",
    "            continue \n",
    "        hotel_selezionato= np.random.choice(hotels_disponibili['hotel'])\n",
    "    #this loop assign to the guest a random hotel in his preferences if it is possible, in other case it gives one random that is free, if that is not possible he won't have the room\n",
    "    \n",
    "    prezzo_hotel= hotels[hotels['hotel']==hotel_selezionato].iloc[0]\n",
    "    price=prezzo_hotel['price']\n",
    "    #i take the row of the hotel that is selected and than asssign to price the value of the colunm price in the row of the hotel chosen\n",
    "    \n",
    "    prezzo_finale= price*(1-discount)\n",
    "    #calculete the discount on the final price \n",
    "    \n",
    "    allocazioni.append({\n",
    "        'cliente':guest,\n",
    "        'hotel_f': hotel_selezionato,\n",
    "        'prezzo_pagato': prezzo_finale\n",
    "    })\n",
    "    #in this way i've all the informations, that i need, matched \n",
    "    \n",
    "    indice_hotel=hotels[hotels['hotel']==hotel_selezionato].index\n",
    "    hotels.loc[indice_hotel, 'stanze_disponibili'] -= 1\n",
    "    #i'm associating to each hotel selected his index\n",
    "    #thanks to .loc i'm searching by using 'indice_hotel' and reducing by 1 'stanze_disponibili' when we assign one\n",
    "    \n",
    "    ospiti_allocati += 1\n",
    "    stanze_occupate += 1\n",
    "    hotel_occupati.add(hotel_selezionato)\n",
    "    guadagni_hotel[hotel_selezionato] += prezzo_finale\n",
    "    #updating after allocate a guest"
   ]
  },
  {
   "cell_type": "code",
   "execution_count": 5,
   "metadata": {},
   "outputs": [
    {
     "name": "stdout",
     "output_type": "stream",
     "text": [
      "Numero di ospiti che hanno ottenuto una camera: 4000\n",
      "Numero di stanze occupate: 4000\n",
      "Numero di hotel occupati: 400\n",
      "Ospiti soddisfatti: 3977\n",
      "\n",
      "Guadagni totali di ogni hotel:\n",
      "         Hotel  Guadagno Totale\n",
      "0      hotel_1          3185.91\n",
      "1      hotel_2          1023.96\n",
      "2      hotel_3          1498.83\n",
      "3      hotel_4          2606.20\n",
      "4      hotel_5          1951.90\n",
      "..         ...              ...\n",
      "395  hotel_396           943.40\n",
      "396  hotel_397           754.80\n",
      "397  hotel_398           915.96\n",
      "398  hotel_399          3893.64\n",
      "399  hotel_400          1180.30\n",
      "\n",
      "[400 rows x 2 columns]\n"
     ]
    }
   ],
   "source": [
    "allocazioni_df= pd.DataFrame(allocazioni)  \n",
    "#creating the dataframe for allocations\n",
    "\n",
    "numero_hotel_occupati= len(hotel_occupati)\n",
    "print(f'Numero di ospiti che hanno ottenuto una camera: {ospiti_allocati}')\n",
    "print(f'Numero di stanze occupate: {stanze_occupate}')\n",
    "print(f'Numero di hotel occupati: {numero_hotel_occupati}')\n",
    "print(f'Ospiti soddisfatti: {ospiti_soddisfatti}')\n",
    "#printing the result that i was searching for\n",
    "\n",
    "guadagni_df= pd.DataFrame(list(guadagni_hotel.items()), columns=['Hotel', 'Guadagno Totale'])\n",
    "print('\\nGuadagni totali di ogni hotel:')\n",
    "print(guadagni_df)"
   ]
  },
  {
   "cell_type": "code",
   "execution_count": 6,
   "metadata": {},
   "outputs": [
    {
     "data": {
      "image/png": "[encoded data removed]",
      "text/plain": [
       "<Figure size 1000x800 with 1 Axes>"
      ]
     },
     "metadata": {},
     "output_type": "display_data"
    }
   ],
   "source": [
    "plt.figure(figsize=(10, 8))\n",
    "plt.bar(['Ospiti Soddisfatti', 'Ospiti Non Soddisfatti'], [ospiti_soddisfatti, ospiti_allocati - ospiti_soddisfatti], color=['green', 'red'])\n",
    "plt.ylabel('Numero di Ospiti')\n",
    "plt.title('Soddisfazione degli Ospiti')\n",
    "plt.show()\n",
    "# creating a plot that shows how many guest were satisfied accordin to their preferences\n",
    "#.figure create the figure considering the size that i choose\n",
    "#.bar create two bar and i choose the name and which data and color i want to assign\n",
    "#.ylable is the name of the y \n",
    "#.title the title of the graph\n",
    "#.show just show the image\n"
   ]
  }
 ],
 "metadata": {
  "kernelspec": {
   "display_name": "Python 3",
   "language": "python",
   "name": "python3"
  },
  "language_info": {
   "codemirror_mode": {
    "name": "ipython",
    "version": 3
   },
   "file_extension": ".py",
   "mimetype": "text/x-python",
   "name": "python",
   "nbconvert_exporter": "python",
   "pygments_lexer": "ipython3",
   "version": "3.12.6"
  }
 },
 "nbformat": 4,
 "nbformat_minor": 2
}
